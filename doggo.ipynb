{
  "cells": [
    {
      "cell_type": "markdown",
      "metadata": {
        "id": "view-in-github",
        "colab_type": "text"
      },
      "source": [
        "<a href=\"https://colab.research.google.com/github/san2103/Dog-breed-vision/blob/main/doggo.ipynb\" target=\"_parent\"><img src=\"https://colab.research.google.com/assets/colab-badge.svg\" alt=\"Open In Colab\"/></a>"
      ]
    },
    {
      "cell_type": "markdown",
      "metadata": {
        "id": "MHP6qaYRC12f"
      },
      "source": [
        "End to End Multi-class Dog Breed Classification\n",
        "#1. Problem:\n",
        " Identify breed of a dog by given an image of dog.\n",
        "#2.Data: \n",
        "The data is from Kaggle's dog breed identification competition.\n",
        "\"https://www.kaggle.com/competitions/dog-breed-identification/data\"\n",
        "#3.Evaluation:\n",
        "The evaluation is a file with prediction probablities for each dog breed of each test image.\n",
        "#4. Features:\n",
        "We're dealing with images(unstructrured Data) so it's best use deep learning/transfer learning.\n",
        "There are 120 breeds of dogs( this means there are 120 different classes).\n",
        "Around 10000 + images in training set(have labels)\n",
        "Around 10000+ images in test set(without labels\n",
        "\n",
        "\n"
      ]
    },
    {
      "cell_type": "code",
      "execution_count": null,
      "metadata": {
        "id": "D5A8-HKFMyVp"
      },
      "outputs": [],
      "source": [
        "\n",
        "#!unzip \"drive/MyDrive/dog vision/dog-breed-identification.zip\" -d \"drive/MyDrive/dog vision/\""
      ]
    },
    {
      "cell_type": "code",
      "execution_count": null,
      "metadata": {
        "id": "L8E32Ivf-MiE"
      },
      "outputs": [],
      "source": [
        "import tensorflow as tf\n",
        "import tensorflow_hub as hub"
      ]
    },
    {
      "cell_type": "code",
      "execution_count": null,
      "metadata": {
        "id": "Zh6dwHlCyDQe"
      },
      "outputs": [],
      "source": [
        "#print(tf.__version__)\n",
        "#print(hub.__version__)\n",
        "#print(tf.config.list_physical_devices(\"GPU\"))"
      ]
    },
    {
      "cell_type": "markdown",
      "metadata": {
        "id": "JtSsUARRe1np"
      },
      "source": [
        "Turning images into Tensors(numerical representation(matrix/numpy array))"
      ]
    },
    {
      "cell_type": "code",
      "execution_count": null,
      "metadata": {
        "id": "QgvEJhg9ELsj"
      },
      "outputs": [],
      "source": [
        "import pandas as pd\n",
        "label_csv=pd.read_csv(\"drive/MyDrive/dog vision/labels.csv\")"
      ]
    },
    {
      "cell_type": "code",
      "execution_count": null,
      "metadata": {
        "id": "T70FBKsuE1b_"
      },
      "outputs": [],
      "source": [
        "#label_csv.head()\n",
        "#label_csv[\"breed\"].value_counts().plot.bar(figsize=(40,20))\n"
      ]
    },
    {
      "cell_type": "code",
      "execution_count": null,
      "metadata": {
        "id": "wm_Mu60Cj9U4"
      },
      "outputs": [],
      "source": [
        "#from IPython.display import Image\n",
        "#Image(\"drive/MyDrive/dog vision/train/000bec180eb18c7604dcecc8fe0dba07.jpg\")"
      ]
    },
    {
      "cell_type": "code",
      "execution_count": null,
      "metadata": {
        "id": "XfG7qw4YAuRs"
      },
      "outputs": [],
      "source": [
        "#label_csv.head"
      ]
    },
    {
      "cell_type": "code",
      "execution_count": null,
      "metadata": {
        "id": "KMs7J5oFBIrB"
      },
      "outputs": [],
      "source": [
        "#filename=[fname for fname in label_csv[\"id\"]]"
      ]
    },
    {
      "cell_type": "code",
      "execution_count": null,
      "metadata": {
        "id": "k5wnd5cBBch-"
      },
      "outputs": [],
      "source": [
        "filename= [ \"drive/MyDrive/dog vision/train/\" + fname+\".jpg\" for fname in label_csv[\"id\"] ]"
      ]
    },
    {
      "cell_type": "code",
      "execution_count": null,
      "metadata": {
        "id": "YwNxsXgwBzr_"
      },
      "outputs": [],
      "source": [
        "#filename[:5]"
      ]
    },
    {
      "cell_type": "markdown",
      "metadata": {
        "id": "BBFUFos88L8T"
      },
      "source": [
        "now we've got our trainning image filepaths in a list so we will prepare our labels."
      ]
    },
    {
      "cell_type": "code",
      "execution_count": null,
      "metadata": {
        "id": "maaL2woiCbaZ"
      },
      "outputs": [],
      "source": [
        "labels=label_csv[\"breed\"]\n",
        "import numpy as np\n",
        "labels=np.array(labels)\n",
        "#len(labels)\n",
        "#labels\n",
        " "
      ]
    },
    {
      "cell_type": "markdown",
      "metadata": {
        "id": "9ycaozDl-b-j"
      },
      "source": [
        "Find the unique label values and convert this array of strings into array of numbers\n"
      ]
    },
    {
      "cell_type": "code",
      "execution_count": null,
      "metadata": {
        "id": "qad8SwFCWhR5"
      },
      "outputs": [],
      "source": [
        "unique_breeds=np.unique(labels) \n",
        "#unique_breeds  \n",
        "#len(unique_breeds )  \n",
        "     "
      ]
    },
    {
      "cell_type": "code",
      "execution_count": null,
      "metadata": {
        "id": "5g9E1p2zZHy6"
      },
      "outputs": [],
      "source": [
        "#print(labels[0])\n",
        "#labels[0] == unique_breeds\n"
      ]
    },
    {
      "cell_type": "code",
      "execution_count": null,
      "metadata": {
        "id": "YeUmjuaJeZrC"
      },
      "outputs": [],
      "source": [
        "boolean_labels= [label == unique_breeds for label in labels]\n",
        "#boolean_labels\n",
        "#boolean_labels[:2]\n",
        "#len(boolean_labels)"
      ]
    },
    {
      "cell_type": "code",
      "execution_count": null,
      "metadata": {
        "colab": {
          "base_uri": "https://localhost:8080/"
        },
        "id": "u3ZuVTfsmAGb",
        "outputId": "61393563-7bca-4833-d890-daaec5239d54"
      },
      "outputs": [
        {
          "output_type": "stream",
          "name": "stdout",
          "text": [
            "(array([19]),)\n"
          ]
        }
      ],
      "source": [
        "print(np.where(unique_breeds == labels[0]))\n",
        "#print(boolean_labels[0].astype(int))\n",
        "#print(boolean_labels[0].argmax())\n"
      ]
    },
    {
      "cell_type": "code",
      "execution_count": null,
      "metadata": {
        "id": "Q0gMIV3Oqidk"
      },
      "outputs": [],
      "source": [
        "x= filename\n",
        "y=boolean_labels\n",
        "#len(y)"
      ]
    },
    {
      "cell_type": "code",
      "execution_count": null,
      "metadata": {
        "id": "E9Znep8W-9HF"
      },
      "outputs": [],
      "source": [
        "NUM_IMAGES =  1000 #@param {type: \"slider\", min:1000, max:10000, step:1000}"
      ]
    },
    {
      "cell_type": "code",
      "execution_count": null,
      "metadata": {
        "id": "EZvQE-QI_efr"
      },
      "outputs": [],
      "source": [
        "from sklearn.model_selection import train_test_split\n",
        "X_train, X_val, Y_train, Y_val =train_test_split(x[:NUM_IMAGES], y[:NUM_IMAGES],test_size=0.2,random_state=42)"
      ]
    },
    {
      "cell_type": "code",
      "execution_count": null,
      "metadata": {
        "colab": {
          "base_uri": "https://localhost:8080/"
        },
        "id": "xcRE_NiYCiQQ",
        "outputId": "33c9177f-df28-402e-f276-76fef08403bd"
      },
      "outputs": [
        {
          "output_type": "execute_result",
          "data": {
            "text/plain": [
              "(800, 800, 200, 200)"
            ]
          },
          "metadata": {},
          "execution_count": 20
        }
      ],
      "source": [
        "len(X_train),len(Y_train),len(X_val),len(Y_val)"
      ]
    },
    {
      "cell_type": "code",
      "execution_count": null,
      "metadata": {
        "id": "-AEwkZ7wC0aa"
      },
      "outputs": [],
      "source": [
        " #X_train[:5],Y_train[:2]"
      ]
    },
    {
      "cell_type": "code",
      "execution_count": null,
      "metadata": {
        "id": "93mZgcM-JHBK"
      },
      "outputs": [],
      "source": [
        "#import cv2\n",
        "#im=cv2.imread(filename[0])\n"
      ]
    },
    {
      "cell_type": "markdown",
      "source": [
        "## Preprocessing Image (turning images into Tensors)"
      ],
      "metadata": {
        "id": "FkQRg7Q_cge-"
      }
    },
    {
      "cell_type": "code",
      "execution_count": null,
      "metadata": {
        "id": "kf_Jl3QgMTL3"
      },
      "outputs": [],
      "source": [
        "#convert an image to a numpy array\n",
        "#from matplotlib.pyplot import imread\n",
        "#image = imread(filename[2])\n",
        "#image.shape"
      ]
    },
    {
      "cell_type": "code",
      "execution_count": null,
      "metadata": {
        "id": "IbBumEsdMTSw"
      },
      "outputs": [],
      "source": [
        "#image[:2]"
      ]
    },
    {
      "cell_type": "markdown",
      "source": [
        "Turning image into Tensor\n"
      ],
      "metadata": {
        "id": "_DD70o91ZqEn"
      }
    },
    {
      "cell_type": "code",
      "execution_count": null,
      "metadata": {
        "id": "ihOCA_MSPJpa"
      },
      "outputs": [],
      "source": [
        "#tf.constant(image)[:2]"
      ]
    },
    {
      "cell_type": "markdown",
      "source": [
        "##Function to preprocess image:\n",
        "1. Take an image filepath as input\n",
        "2.Use TensorFlow to read the file and save it to a variable, `image`\n",
        "3. Resize the 'image' to be a shape(224,224)\n",
        "4. Normalize our image(convert color channel values from 0-255 to 0-1)\n",
        "5. Return the modified `image`"
      ],
      "metadata": {
        "id": "N5yqknN_cI3l"
      }
    },
    {
      "cell_type": "code",
      "execution_count": null,
      "metadata": {
        "id": "LA_cqeELKr3C"
      },
      "outputs": [],
      "source": [
        "#Define image size\n",
        "IMG_SIZE = 224"
      ]
    },
    {
      "cell_type": "code",
      "execution_count": null,
      "metadata": {
        "id": "69KVJovmMePD"
      },
      "outputs": [],
      "source": [
        "def process_image(image_path,img_size=IMG_SIZE):\n",
        " image = tf.io.read_file(image_path) # returns string tensor\n",
        " image = tf.image.decode_jpeg(image,channels =3) # converting image into numeric tensor\n",
        " #convert the colour channel values from 0-255 to 0-1 values\n",
        " image = tf.image.convert_image_dtype(image, tf.float32) #float\n",
        " image = tf.image.resize(image, size=[IMG_SIZE, IMG_SIZE]) #resize image(244,244)\n",
        " return image\n",
        " "
      ]
    },
    {
      "cell_type": "code",
      "execution_count": null,
      "metadata": {
        "id": "oJVekNaFAaOE"
      },
      "outputs": [],
      "source": [
        "#tensor1=tf.io.read_file(filename[0])\n",
        "#tensor=tf.image.decode_jpeg(tensor1,channels=3)\n",
        "#tensor"
      ]
    },
    {
      "cell_type": "code",
      "execution_count": null,
      "metadata": {
        "id": "TIMDJ0cRTe5E"
      },
      "outputs": [],
      "source": [
        "#turning data in batches(because gpu has limitation over storage)\n",
        "BATCH_SIZE = 32"
      ]
    },
    {
      "cell_type": "markdown",
      "source": [
        "In order to use TesnorFlow effectively, we need our data in the form of Tensor tuples which look like this:`(image, label)`"
      ],
      "metadata": {
        "id": "UW6042MVAeIi"
      }
    },
    {
      "cell_type": "code",
      "execution_count": null,
      "metadata": {
        "id": "LfOLGso47f3u"
      },
      "outputs": [],
      "source": [
        "#create a simple funcion to return a tuple (image, label) of tensor type\n",
        "def get_image_label(image_path, label):\n",
        "  \"\"\"Takes an image filepath name and the associated label,\n",
        "   processes the image and returns a tuple of (image, label)\n",
        "  \"\"\"\n",
        "  image = process_image(image_path)\n",
        "  return image, label\n",
        "  \n"
      ]
    },
    {
      "cell_type": "code",
      "source": [
        "#demo \n",
        "#process_image(x[42], tf.constant (y[42]))"
      ],
      "metadata": {
        "id": "Dd4jiNoRE1n9"
      },
      "execution_count": null,
      "outputs": []
    },
    {
      "cell_type": "markdown",
      "source": [
        "After getting a way turn our data into tuples of Tensors in the form:`(images, labels)`, lets's make a function to turn all of our data(`X` &`Y`) into batches.\n",
        "function does the following:\n",
        " \"\"\" Creates batches of data out of image(X) and label (Y) pairs. Shuffles the data if it's training data but doesn't shuffle if it's validation data. Also accepts test data as input(no labels)\"\"\"\n"
      ],
      "metadata": {
        "id": "C5iHQzurIrMw"
      }
    },
    {
      "cell_type": "code",
      "source": [
        "#Creating Data batches Function \n",
        "#test has no labels\n",
        "def create_data_batches(x, y=None, batch_size=BATCH_SIZE, valid_data=False, test_data=False):\n",
        " if test_data:\n",
        "  print(\"Creating test data batches...\")\n",
        "  data = tf.data.Dataset.from_tensor_slices(tf.constant(x)) #only filepaths(no labels)\n",
        "  data_batch = data.map(process_image).batch(BATCH_SIZE)\n",
        "  return data_batch\n",
        "      #if the data is a valid dataset , we don't need to shuffle it\n",
        " elif valid_data:\n",
        "   print(\"Creating validation data batches...\")\n",
        "   data=tf.data.Dataset.from_tensor_slices((tf.constant(x),tf.constant(y)))\n",
        "   data_batch = data.map(get_image_label).batch(BATCH_SIZE)\n",
        "   return data_batch\n",
        "\n",
        " else:\n",
        "   print (\"Creating training data batches...\")\n",
        "        #Turn filepaths and labels into Tensors\n",
        "   data = tf.data.Dataset.from_tensor_slices((tf.constant(x),tf.constant(y)))\n",
        "         \n",
        "         #Shuffling pathnames and labels before mapping image processor is faster than shuffling images\n",
        "   data = data.shuffle(buffer_size=len(x))\n",
        "          #Create(image,label) tuples(this also turns the image path into a preprocessed image)\n",
        "   data = data.map(get_image_label)\n",
        "         #turn the trinnig data into batches\n",
        "   data_batch = data.batch(BATCH_SIZE)\n",
        "   return data_batch"
      ],
      "metadata": {
        "id": "L5rpJoNHoU2A"
      },
      "execution_count": null,
      "outputs": []
    },
    {
      "cell_type": "code",
      "source": [
        "#Creating training and validation data batches\n",
        "train_data = create_data_batches(X_train, Y_train)\n",
        "val_data =   create_data_batches(X_val, Y_val, valid_data=True)\n",
        "#len(Y_val)"
      ],
      "metadata": {
        "colab": {
          "base_uri": "https://localhost:8080/"
        },
        "id": "4M7HOBVYqPHe",
        "outputId": "46801d81-760b-4d01-9c9d-d894a77fc751"
      },
      "execution_count": null,
      "outputs": [
        {
          "output_type": "stream",
          "name": "stdout",
          "text": [
            "Creating training data batches...\n",
            "Creating validation data batches...\n"
          ]
        }
      ]
    },
    {
      "cell_type": "code",
      "source": [
        "#Creating out the different attributes of our data batches \n",
        "#train_data.element_spec, val_data.element_spec"
      ],
      "metadata": {
        "id": "AAGkk8EOBskt"
      },
      "execution_count": null,
      "outputs": []
    },
    {
      "cell_type": "markdown",
      "source": [
        "Visualizing Data Batches\n",
        "Our data is now in batches, however these can be a little hard to understand/comprehend,let's visualize them!"
      ],
      "metadata": {
        "id": "RugT0vhUdF29"
      }
    },
    {
      "cell_type": "code",
      "execution_count": null,
      "metadata": {
        "id": "qNYGSquEbKJq"
      },
      "outputs": [],
      "source": [
        "from matplotlib import pyplot as plt\n",
        "#create a function for viewing images in a data batch"
      ]
    },
    {
      "cell_type": "code",
      "execution_count": null,
      "metadata": {
        "id": "9XSmpCfLN7GE"
      },
      "outputs": [],
      "source": [
        "def show_25_images(images, labels):\n",
        "  plt.figure(figsize=(10,10))\n",
        "  for i in range(25):\n",
        "    ax = plt.subplot(5,5,i+1)\n",
        "    # create subplot (5 rows, 5 columns)\n",
        "    plt.imshow(images[i])\n",
        "    #Add the image label as the title\n",
        "    plt.title(unique_breeds[labels[i].argmax()])\n",
        "    # Turn the grid lines off\n",
        "    plt.axis(\"off\")\n",
        "    "
      ]
    },
    {
      "cell_type": "code",
      "execution_count": null,
      "metadata": {
        "id": "4LweAHBAa31K"
      },
      "outputs": [],
      "source": [
        "#train_images, train_labels = next(train_data.as_numpy_iterator())\n",
        "#train_images, train_labels"
      ]
    },
    {
      "cell_type": "code",
      "execution_count": null,
      "metadata": {
        "id": "_8Y5CNOJeUKt"
      },
      "outputs": [],
      "source": [
        "#show_25_images(train_images, train_labels)"
      ]
    },
    {
      "cell_type": "code",
      "execution_count": null,
      "metadata": {
        "id": "NmE-vshcgoaN"
      },
      "outputs": [],
      "source": [
        "#val_images, val_labels= next(val_data.as_numpy_iterator())\n",
        "#show_25_images(val_images, val_labels)"
      ]
    },
    {
      "cell_type": "markdown",
      "source": [
        "##Building a model\n",
        "\n",
        "Before we build a model,there are a few things we need to define:\n",
        "* The input shape (our images shape, in the form of Tensors) to our model.\n",
        "* The output shape (image label, in the form of Tensors) of our model.\n",
        "* The URL of the model we want to use.https://tfhub.dev/google/imagenet/mobilenet_v2_130_224/classification/5"
      ],
      "metadata": {
        "id": "1fF3JwEH1HSo"
      }
    },
    {
      "cell_type": "code",
      "execution_count": null,
      "metadata": {
        "id": "ggFbyec7kd3u"
      },
      "outputs": [],
      "source": [
        "#Setup input shape to the  model\n",
        "INPUT_SHAPE = [ None, IMG_SIZE, IMG_SIZE, 3] #batch ,height,width,colour channels\n",
        "#setup output shape of our model\n",
        "OUTPUT_SHAPE = len(unique_breeds)\n",
        "#setup model URL from TensorFlow Hub \n",
        "MODEL_URL = \"https://tfhub.dev/google/imagenet/mobilenet_v2_130_224/classification/5\""
      ]
    },
    {
      "cell_type": "markdown",
      "source": [
        "Now we've got our inputs ,outputs and model ready to go. let's put them together into a Keras deep learning model\n",
        "function contains:\n",
        "* Takes the input shape,output shape and the model we've chosen as parameters.\n",
        "* Defines the layers in a Keras model in sequential fashion (do this first ,then this..)\n",
        "* Compile the model (says it should be evaluated and improved)\n",
        "* Buils the model (tells the model input shape it'll be getting)\n",
        "* Returns the model\n",
        "***when working with Binary classification- Activation function is `Sigmoid` and loss function is `Binary Crossentropy`, with Multi-class classsification - Activation function is `Softmax` and loss function is ` Catagorical Crossentropy` ***"
      ],
      "metadata": {
        "id": "JnY9DNG2Xjz0"
      }
    },
    {
      "cell_type": "code",
      "execution_count": null,
      "metadata": {
        "id": "p9Jg3-A0PXeL"
      },
      "outputs": [],
      "source": [
        "#create a functiojn which builds a Keras model\n",
        "def create_model(input_shape=INPUT_SHAPE,output_shape=OUTPUT_SHAPE,model_url=MODEL_URL):\n",
        "#setup the model layers\n",
        " model = tf.keras.Sequential( [hub.KerasLayer(MODEL_URL),#Layer 1 (input layer)\n",
        "                               tf.keras.layers.Dense(units=OUTPUT_SHAPE,\n",
        "                                                     activation =\"softmax\")])#Layer 2 (Output layer)\n",
        "#compile the model\n",
        " model.compile(\n",
        "    loss = tf.keras.losses.CategoricalCrossentropy(),\n",
        "    optimizer = tf.keras.optimizers.Adam(),\n",
        "    metrics = [\"accuracy\"])\n",
        "\n",
        " #Build the model\n",
        " model.build(INPUT_SHAPE)\n",
        " return model"
      ]
    },
    {
      "cell_type": "code",
      "execution_count": null,
      "metadata": {
        "id": "_zqGU4fVX9ep"
      },
      "outputs": [],
      "source": [
        "model = create_model()\n",
        "#model.summary()"
      ]
    },
    {
      "cell_type": "markdown",
      "source": [
        "##Creating callbacks \n",
        "\n",
        "Callbacks are helper functions a model can use to do such things as save its progress,check its progress or stop training early if a model stops improving\n",
        "\n",
        "We will create two callbacks, one for TensorBoard which helps track our models progress and another for early stopping which prevents our model from training for too long."
      ],
      "metadata": {
        "id": "F63AaZkE3Qn4"
      }
    },
    {
      "cell_type": "markdown",
      "source": [
        "##TensorBoard Callback\n",
        "\n",
        "To steup a Tensoroard callback, we need to do 3 things:\n",
        "1. Load the TensorBoard notebook extension\n",
        "2. Create a TensorBoard callback which is able to save logs to a directory and pass it our model's `fit()` function.\n",
        "3. Visualize our models training logs with the %tensorboard magic function(we will do this after model training).\n"
      ],
      "metadata": {
        "id": "cIKRIT1T7i8Q"
      }
    },
    {
      "cell_type": "code",
      "execution_count": null,
      "metadata": {
        "id": "sORbDpz8YI88"
      },
      "outputs": [],
      "source": [
        "#Load TensorBoard notebook exension\n",
        "%load_ext tensorboard"
      ]
    },
    {
      "cell_type": "code",
      "source": [
        "import datetime\n",
        "import os\n",
        "#Create a function to build a TensorBoard callback \n",
        "def create_tensorboard_callback():\n",
        "# Create a log directory for storing  TensorBoard logs\n",
        " logdir = os.path.join(\"drive/MyDrive/dog vision/logs\",datetime.datetime.now().strftime(\"%Y%m%d-%H%M%S\")) #Make it so the logs get tracked whenever we run experiment\n",
        " return tf.keras.callbacks.TensorBoard(logdir)\n",
        " "
      ],
      "metadata": {
        "id": "uL3552VL-MDU"
      },
      "execution_count": null,
      "outputs": []
    },
    {
      "cell_type": "markdown",
      "source": [
        "###Early Stopping Callback\n",
        "Early stopping helps stop our model from overfitting by stopping training if a certain evaluation stops improving\n",
        "https://www.tensorflow.org/api_docs/python/tf/keras/callbacks/EarlyStopping\n"
      ],
      "metadata": {
        "id": "NhZ-icsHkXSv"
      }
    },
    {
      "cell_type": "code",
      "source": [
        "#Create early stopping callback\n",
        "early_stopping = tf.keras.callbacks.EarlyStopping(monitor=\"val_accuracy\",patience=3)\n",
        "#when accuracy stop going up for 3 epochs we stop training "
      ],
      "metadata": {
        "id": "GM7TO9oZlVPF"
      },
      "execution_count": null,
      "outputs": []
    },
    {
      "cell_type": "markdown",
      "source": [
        "##Training a model (on subset of data)\n",
        "Our first model is only going to train on 1000 images, to make sure everything is working "
      ],
      "metadata": {
        "id": "I6StJOkf17oo"
      }
    },
    {
      "cell_type": "markdown",
      "source": [
        "!!Number of Epochs  how many passes of our data to model we want!! `In evey pass model will try to find the pattern in each dog image and see which patterns relates to each label`"
      ],
      "metadata": {
        "id": "Lvak81v-8s6_"
      }
    },
    {
      "cell_type": "code",
      "source": [
        "NUM_EPOCHS = 100 #@param {type:\"slider\",min:10, max:100}"
      ],
      "metadata": {
        "id": "0NkTX9px2bwT"
      },
      "execution_count": null,
      "outputs": []
    },
    {
      "cell_type": "markdown",
      "source": [
        "##Ensure that  GPU is Working\n",
        "print(\"GPU,\"available(Yess)\" if tf.config.list_physical_devices(\"GPU\") else \"not avialable\")\n"
      ],
      "metadata": {
        "id": "JyInPjjY-p8P"
      }
    },
    {
      "cell_type": "markdown",
      "source": [
        "Let's create a function which trains a model.\n",
        "\n",
        "* Create a model using `create_model()`\n",
        "* Setup a TensorBoard callback using `create_tensorboard_callback()`\n",
        "* Call the `fit()` function on our model passing it the training data, validation data, number of epochs to train for (`NUM_EPOCHS`) and the callbacks we'd like to use\n",
        "* Return the model\n",
        "\n"
      ],
      "metadata": {
        "id": "_wDXVL9cCJ3-"
      }
    },
    {
      "cell_type": "code",
      "source": [
        "# Build a function to train and return a trained model\n",
        "def train_model():\n",
        "  \"\"\"\n",
        "  Trains a given model and returns the trained version.\n",
        "  \"\"\"\n",
        "  #Create a model\n",
        "  model = create_model()\n",
        "\n",
        "  #Create new TensorBoard session everytime we train a model\n",
        "  tensorboard = create_tensorboard_callback()\n",
        "\n",
        "  #Fit the model to the data passing it the callbacks we created\n",
        "  model.fit(x=train_data, epochs=NUM_EPOCHS,validation_data=val_data,\n",
        "            validation_freq=1, callbacks=[tensorboard, early_stopping])\n",
        "  #Return the fitted model\n",
        "  return model\n"
      ],
      "metadata": {
        "id": "zu7lsK6pCj_R"
      },
      "execution_count": null,
      "outputs": []
    },
    {
      "cell_type": "code",
      "source": [
        "# fit the model to the data\n",
        "#model = train_model()"
      ],
      "metadata": {
        "id": "pIeZBoMoH_OL"
      },
      "execution_count": null,
      "outputs": []
    },
    {
      "cell_type": "markdown",
      "source": [
        "**Question:** It looks like our model is overfitting beacuse it's performing far better on the training dataset than the validation dataset, what are some ways to prevent model overfitting in deep learning neural networks?"
      ],
      "metadata": {
        "id": "9JmaedT5KWI2"
      }
    },
    {
      "cell_type": "markdown",
      "source": [
        "**Note**: Overfitting to beginwith is a good thing! It means our model is learning!!!"
      ],
      "metadata": {
        "id": "SatshMf4LFfb"
      }
    },
    {
      "cell_type": "markdown",
      "source": [
        "##Checking the TensorBoard logs\n",
        "The TensorBorad magic function(`%tensorboard`) will access the logs dirctory the logs we created earlier and visualize it's contents."
      ],
      "metadata": {
        "id": "hA2f7cAwgENi"
      }
    },
    {
      "cell_type": "code",
      "source": [
        "# %tensorboard --logdir drive/MyDrive/dog\\ vision/logs"
      ],
      "metadata": {
        "id": "nvbbgzrOK-6w"
      },
      "execution_count": null,
      "outputs": []
    },
    {
      "cell_type": "markdown",
      "source": [
        "##Making and evaluating prediction using a trained model"
      ],
      "metadata": {
        "id": "XKcWBNRLfhyN"
      }
    },
    {
      "cell_type": "code",
      "source": [
        "#Make prediction on the validation data(not used to train on )\n",
        "#predictions = model.predict(val_data, verbose =1)\n",
        "#predictions"
      ],
      "metadata": {
        "id": "OtNKs3-Vg7Dt"
      },
      "execution_count": null,
      "outputs": []
    },
    {
      "cell_type": "code",
      "source": [
        "#predictions.shape"
      ],
      "metadata": {
        "id": "CZbwIaznmkRO"
      },
      "execution_count": null,
      "outputs": []
    },
    {
      "cell_type": "code",
      "source": [
        "#len(Y_val)\n",
        "#len(unique_breeds)"
      ],
      "metadata": {
        "id": "bF88VwQym36Q"
      },
      "execution_count": null,
      "outputs": []
    },
    {
      "cell_type": "code",
      "source": [
        "#predictions[0]\n",
        "#len(predictions[0])\n",
        "#np.sum(predictions[0])"
      ],
      "metadata": {
        "id": "fY5zyulxnMII"
      },
      "execution_count": null,
      "outputs": []
    },
    {
      "cell_type": "code",
      "source": [
        "#First prediction\n",
        "#index=0 \n",
        "#print(predictions[0])\n",
        "#print(f\"Max value probabilty of prediction):{np.max(predictions[0])}\")\n",
        "#print(f\"Sum: {np.sum(predictions[index])}\")\n",
        "#print(f\"Max index:{np.argmax(predictions[index])}\")\n",
        "#print(f\"Prediction label:{unique_breeds[np.argmax(predictions[index])]}\")\n"
      ],
      "metadata": {
        "id": "agxk8_lnxUxa"
      },
      "execution_count": null,
      "outputs": []
    },
    {
      "cell_type": "code",
      "source": [
        "#unique_breeds[26]"
      ],
      "metadata": {
        "id": "jd03gHVszuJv"
      },
      "execution_count": null,
      "outputs": []
    },
    {
      "cell_type": "markdown",
      "source": [
        "Having the above functionality is great but we want to be able to do it at scale\n",
        "And it would be even better if we could see the image the prediction is being made on!\n",
        "\n",
        "**Note:** Prediction probabilities also known as confidence levels."
      ],
      "metadata": {
        "id": "zQC4s6GZ2kUi"
      }
    },
    {
      "cell_type": "code",
      "source": [
        "#TUrn prediction probabilities into their respective label(eaier to understand )\n",
        "def get_pred_label(prediction_probabilities):\n",
        "  \"\"\"\n",
        "  Turns an array of prediction probabilties into a label\n",
        "  \"\"\"\n",
        "  return unique_breeds[np.argmax(prediction_probabilities)]\n",
        "  #Get a predicted label based on an array of prediction probabilities \n",
        "#pred_label = get_pred_label(predictions[0])\n",
        "#pred_label"
      ],
      "metadata": {
        "id": "aKfwWrJ_26XM"
      },
      "execution_count": null,
      "outputs": []
    },
    {
      "cell_type": "markdown",
      "source": [
        "Now since our validation data is still in a batch dataset, we'll have to unbatchify it to make predictions on the validation images and then compare those predictions to the validation labels(truth labels)"
      ],
      "metadata": {
        "id": "tliKjNz-7yCo"
      }
    },
    {
      "cell_type": "code",
      "source": [
        "#Create a function to unbatch a batch dataset\n",
        "def unbatchify(data):\n",
        "  \"\"\"\n",
        "  Takes a batched dataset of (image, label) Tensors and returns separate arrays of images and labels.\n",
        "  \"\"\"\n",
        "  images=[]\n",
        "  labels=[]\n",
        "#Loop through unbatched data\n",
        "  for image, label in data.unbatch().as_numpy_iterator():    \n",
        "    images.append(image)\n",
        "    labels.append(unique_breeds[np.argmax(label)])\n",
        "  return images, labels\n",
        "\n",
        "#Unbatchify the validation data\n",
        "#val_images, val_labels = unbatchify(val_data)\n",
        "#val_images[0], val_labels[0]"
      ],
      "metadata": {
        "id": "g5AHOoRL7VW0"
      },
      "execution_count": null,
      "outputs": []
    },
    {
      "cell_type": "code",
      "source": [
        "#get_pred_label(val_labels[0])"
      ],
      "metadata": {
        "id": "zQ3D63VPBzTI"
      },
      "execution_count": null,
      "outputs": []
    },
    {
      "cell_type": "markdown",
      "source": [
        "##Now we have got ways to get:\n",
        "* Prediction labels\n",
        "* Validation labels(truth labels)\n",
        "* Validation images\n",
        "\n",
        "Let's make some function to make all abit more visualize\n",
        "\n",
        "We will create a function which:\n",
        "* Takes an array of prediction probabilties, an array of truth labels and an array of images and integer. \n",
        "* Convert the prediction probabilities to a predicted label.\n",
        "* Plot the predicted label, its predicted probability, the truth label and the target image on a single plot."
      ],
      "metadata": {
        "id": "GHwg5GxgF1mX"
      }
    },
    {
      "cell_type": "code",
      "source": [
        "def plot_pred(prediction_probabilities, labels, images, n=1 ):\n",
        "  \"\"\"\n",
        "  View the prediction, ground truth and image for sample n\n",
        "  \"\"\"\n",
        "  pred_prob= prediction_probabilities[n]\n",
        "  true_label=labels[n] \n",
        "  image=images[n]\n",
        "\n",
        "  #Get the pred label\n",
        "  pred_label =get_pred_label(pred_prob)\n",
        "  #plot image & remove ticks\n",
        "  plt.imshow(image)\n",
        "  plt.xticks([])\n",
        "  plt.yticks([])\n",
        "\n",
        "  # change the colour of the title depending on if the prediction is right or wrong\n",
        "  if pred_label == true_label:\n",
        "    color= \"green\"\n",
        "  else:\n",
        "    color = \"red\"  \n",
        "\n",
        "  # Change plot tiitle to be predicted, probability and truth label\n",
        "  #plt.title(\"{} {:2.0f}% {}\" .format(pred_label, np.max(pred_prob)*100, true_label), color=color)\n",
        "  \n",
        "\n"
      ],
      "metadata": {
        "id": "EDvN6fRnBVxt"
      },
      "execution_count": null,
      "outputs": []
    },
    {
      "cell_type": "code",
      "source": [
        "#plot_pred(prediction_probabilities=predictions, labels=val_labels, images=val_images, n=1)"
      ],
      "metadata": {
        "id": "rsbnQuXICFbT"
      },
      "execution_count": null,
      "outputs": []
    },
    {
      "cell_type": "markdown",
      "source": [
        "Now we have got one function to visualize our models top prediction, let's make another to view our model top 10 prediction \n",
        "This function will:\n",
        "* Take an input of prediction probabilities array and a ground truth array and an integer\n",
        "* Find the prediction using `get_pred_label()`\n",
        "*Find the top 10:\n",
        " * Prediction probabilties indexes\n",
        " * Prediction probabilties values\n",
        " * Prediction labels\n",
        "*Plot the top 10 prediction probability values and labels, coloring the true label green \n"
      ],
      "metadata": {
        "id": "1AcZr6SffNzU"
      }
    },
    {
      "cell_type": "code",
      "source": [
        "def plot_pred_conf(prediction_probabilities, labels, n=1):\n",
        "  \"\"\"\n",
        "  Plus the top 10 highies prediction confidences along with truth label for sample n\n",
        "  \"\"\"\n",
        "  pred_prob, true_label = prediction_probabilities[n], labels[n]\n",
        "  \n",
        "  # Get the predicted label\n",
        "  pred_label = get_pred_label(pred_prob)\n",
        "\n",
        "  #find the top 10 prediction confidence indexes\n",
        "  top_10_pred_indexes= pred_prob.argsort()[-10:][::-1]\n",
        "  #find the top 10 prediction confidence values\n",
        "  top_10_pred_values = pred_prob[top_10_pred_indexes]\n",
        "  #find the top 10 prediction labels\n",
        "  top_10_pred_labels=  unique_breeds[top_10_pred_indexes]\n",
        "  #Setup plot\n",
        "  top_plot =plt.bar(np.arange(len(top_10_pred_labels)),top_10_pred_values,\n",
        "                    color=\"grey\")\n",
        "  plt.xticks(np.arange(len(top_10_pred_labels)),labels=top_10_pred_labels,rotation =\"vertical\")\n",
        "  # Change color of the true label\n",
        "  if np.isin(true_label,top_10_pred_labels):\n",
        "    top_plot[np.argmax(top_10_pred_labels==true_label)].set_color(\"green\")\n",
        "  else:\n",
        "      pass"
      ],
      "metadata": {
        "id": "0-4wru6_hbZx"
      },
      "execution_count": null,
      "outputs": []
    },
    {
      "cell_type": "code",
      "source": [
        "#predictions[0].argsort()[-10:][::-1] # top 10 indexes\n",
        "#predictions[0][predictions[0].argsort()[-10:][::-1]] # top 10 values\n",
        "#predictions[0].max()\n",
        "#unique_breeds[predictions[0].argsort()[-10:][::-1]]"
      ],
      "metadata": {
        "id": "VvXle0aDhemV"
      },
      "execution_count": null,
      "outputs": []
    },
    {
      "cell_type": "code",
      "source": [
        "#plot_pred_conf(prediction_probabilities=predictions,labels=val_labels, n=9)"
      ],
      "metadata": {
        "id": "NQT0bjKg0WTs"
      },
      "execution_count": null,
      "outputs": []
    },
    {
      "cell_type": "markdown",
      "source": [
        "#Now we have got some function to help us visualize our predictions and evaluate our model, let's check out a few."
      ],
      "metadata": {
        "id": "WG6PhnIO_fZx"
      }
    },
    {
      "cell_type": "code",
      "source": [
        "#Let's check out a few predictio and thier different values\n",
        "i_multiplier = 0\n",
        "num_rows= 3\n",
        "num_cols=2\n",
        "num_images= num_rows*num_cols\n",
        "plt.figure(figsize=(10*num_cols,5*num_rows))\n",
        "for i in range(num_images):\n",
        "  plt.subplot(num_rows, 2*num_cols, 2*i+1)\n",
        "  #plot_pred(prediction_probabilities =predictions,labels =val_labels,images=val_images, n=i+i_multiplier)\n",
        "                                                                                    \n",
        "  plt.subplot(num_rows, 2*num_cols, 2*i+2)\n",
        "  #plot_pred_conf(prediction_probabilities =predictions,labels =val_labels,n=i+i_multiplier)\n",
        "  \n",
        "plt.tight_layout(h_pad=1)\n",
        "#plt.show\n"
      ],
      "metadata": {
        "id": "zspdqzMA8phT"
      },
      "execution_count": null,
      "outputs": []
    },
    {
      "cell_type": "markdown",
      "source": [
        "**Challenge:** How would you createa confusion matrix with our models predictions and labels?"
      ],
      "metadata": {
        "id": "_SUphm1XNaLZ"
      }
    },
    {
      "cell_type": "markdown",
      "source": [
        "##Saving and reloading a trained model"
      ],
      "metadata": {
        "id": "5Eh173G_EYBW"
      }
    },
    {
      "cell_type": "code",
      "source": [
        "#create a function to save a model\n",
        "def save_model(model, suffix=None):\n",
        "  \"\"\"\n",
        "  Saves a given model in a models directory and apppends a suffix (string).\n",
        "  \"\"\"\n",
        "  #create amodel directory pathname with current time\n",
        "  modeldir=os.path.join(\"drive/MyDrive/dog vision/models\",\n",
        "                        datetime.datetime.now().strftime(\"%Y%m%d-%H%M%s\"))\n",
        "  model_path= modeldir + \"-\" + suffix + \".h5\" #save formate of model\n",
        "  print(f\"Saving model to :{model_path}...\")\n",
        "  model.save(model_path)\n",
        "  return model_path"
      ],
      "metadata": {
        "id": "BZREGqtkOaDJ"
      },
      "execution_count": null,
      "outputs": []
    },
    {
      "cell_type": "code",
      "source": [
        "# Create a function to load a trained model\n",
        "def load_model(model_path):\n",
        "  \"\"\"\n",
        "  Loads a saved mmodel from a specified path.\n",
        "  \"\"\"\n",
        "  print(f\"loading saved model from: {model_path}\")\n",
        "  model = tf.keras.models.load_model(model_path,\n",
        "                                     custom_objects={\"KerasLayer\":hub.KerasLayer})\n",
        "  return model"
      ],
      "metadata": {
        "id": "kpQOUAD2OIi7"
      },
      "execution_count": null,
      "outputs": []
    },
    {
      "cell_type": "markdown",
      "source": [
        "Now we have got functions to save and load a trained model,let's make sure they work!"
      ],
      "metadata": {
        "id": "GLn1EV3hVTXc"
      }
    },
    {
      "cell_type": "code",
      "source": [
        "#Save our model trained on 1000 images\n",
        "#save_model(model, suffix=\"1000-images-mobilenetv2-Adam\")\n"
      ],
      "metadata": {
        "id": "qyrWzwdnVwyN"
      },
      "execution_count": null,
      "outputs": []
    },
    {
      "cell_type": "code",
      "source": [
        "#load a trained model \n",
        "#loaded_1000_image_model =load_model('drive/MyDrive/dog vision/models/20230125-14361674657412-1000-images-mobilenetv2-Adam.h5')"
      ],
      "metadata": {
        "id": "wva4VI8VVo4y"
      },
      "execution_count": null,
      "outputs": []
    },
    {
      "cell_type": "code",
      "source": [
        "#Evaluate the model before saving\n",
        "#model.evaluate(val_data)"
      ],
      "metadata": {
        "id": "F_QvlX37YQ9L"
      },
      "execution_count": null,
      "outputs": []
    },
    {
      "cell_type": "code",
      "source": [
        "#Evaluate the loaded model\n",
        "#loaded_1000_image_model.evaluate(val_data)"
      ],
      "metadata": {
        "id": "7CeyjY0rYoGs"
      },
      "execution_count": null,
      "outputs": []
    },
    {
      "cell_type": "markdown",
      "source": [
        "##Training a big model (on the full data) "
      ],
      "metadata": {
        "id": "r8CFDFk1Yzzj"
      }
    },
    {
      "cell_type": "code",
      "source": [
        "#len(x),len(y)"
      ],
      "metadata": {
        "id": "Gzu8WjxSYvSW"
      },
      "execution_count": null,
      "outputs": []
    },
    {
      "cell_type": "code",
      "source": [
        "#Create a data batch with the full data set\n",
        "full_data = create_data_batches(x,y)"
      ],
      "metadata": {
        "colab": {
          "base_uri": "https://localhost:8080/"
        },
        "id": "IR-1sVd8Xvti",
        "outputId": "b4078562-770c-4a67-9dcc-f8b9dc557d98"
      },
      "execution_count": null,
      "outputs": [
        {
          "output_type": "stream",
          "name": "stdout",
          "text": [
            "Creating training data batches...\n"
          ]
        }
      ]
    },
    {
      "cell_type": "code",
      "source": [
        "#full_data\n"
      ],
      "metadata": {
        "id": "UrzJ23aoYtxX"
      },
      "execution_count": null,
      "outputs": []
    },
    {
      "cell_type": "code",
      "source": [
        "#create a model for full model\n",
        "full_model =create_model()"
      ],
      "metadata": {
        "id": "fwPjatQMXsfG"
      },
      "execution_count": null,
      "outputs": []
    },
    {
      "cell_type": "code",
      "source": [
        "# create full model callbacks\n",
        "full_model_tensorboard = create_tensorboard_callback()\n",
        "# No validation set when training on all the data,so we can't monitor validation accuracy \n",
        "full_model_early_stopping= tf.keras.callbacks.EarlyStopping(monitor=\"accuracy\",patience=3)"
      ],
      "metadata": {
        "id": "L4p_YLXNXq7T"
      },
      "execution_count": null,
      "outputs": []
    },
    {
      "cell_type": "markdown",
      "source": [],
      "metadata": {
        "id": "pX91p0VGlqTf"
      }
    },
    {
      "cell_type": "code",
      "source": [
        "#Fit the full model to the full data \n",
        "#full_model.fit(x=full_data,epochs=NUM_EPOCHS,callbacks=[full_model_tensorboard,full_model_early_stopping])"
      ],
      "metadata": {
        "id": "EvSuoycRkQYo"
      },
      "execution_count": null,
      "outputs": []
    },
    {
      "cell_type": "code",
      "source": [
        "save_model(full_model, suffix=\"full-image-set-mobilenetv2-Adam\")"
      ],
      "metadata": {
        "colab": {
          "base_uri": "https://localhost:8080/",
          "height": 53
        },
        "id": "MwOUiahzlVc7",
        "outputId": "61ff2c3a-ff1b-4a5a-b411-52ed2d9b4b90"
      },
      "execution_count": null,
      "outputs": [
        {
          "output_type": "stream",
          "name": "stdout",
          "text": [
            "Saving model to :drive/MyDrive/dog vision/models/20230128-03461674877563-full-image-set-mobilenetv2-Adam.h5...\n"
          ]
        },
        {
          "output_type": "execute_result",
          "data": {
            "text/plain": [
              "'drive/MyDrive/dog vision/models/20230128-03461674877563-full-image-set-mobilenetv2-Adam.h5'"
            ],
            "application/vnd.google.colaboratory.intrinsic+json": {
              "type": "string"
            }
          },
          "metadata": {},
          "execution_count": 77
        }
      ]
    },
    {
      "cell_type": "code",
      "source": [
        "loaded_full_model = load_model(\"drive/MyDrive/dog vision/models/20230127-09131674810818-full-image-set-mobilenetv2-Adam.h5\")"
      ],
      "metadata": {
        "colab": {
          "base_uri": "https://localhost:8080/"
        },
        "id": "4O_MtOk2piMy",
        "outputId": "657aecf5-9134-4011-f898-243e166a1110"
      },
      "execution_count": null,
      "outputs": [
        {
          "output_type": "stream",
          "name": "stdout",
          "text": [
            "loading saved model from: drive/MyDrive/dog vision/models/20230127-09131674810818-full-image-set-mobilenetv2-Adam.h5\n"
          ]
        }
      ]
    },
    {
      "cell_type": "markdown",
      "source": [
        "##Making prediction on the test dataset\n",
        "Since our model has been trained on images in the form of Tensor batches, to make predictions on the test data,we'll have to get it into the same format.\n",
        "\n",
        "As we have already created `create_data_batches()`  which can take a list of filenames as input and convert them into Tensor batches.\n",
        "\n",
        "To make predictions on the test data:\n",
        "* Get the testimage filenames\n",
        "* Convert the filenames into test data batches using `create_data_batches()` and setting `test_data` parameter to `True`(since the test data doesn't have labels).\n",
        "* Make a prediction array by passing the test batches to the `predict()` method called on our model."
      ],
      "metadata": {
        "id": "7AV2Vu2zWgBG"
      }
    },
    {
      "cell_type": "code",
      "source": [
        "#Load test image filenames \n",
        "test_path= \"drive/MyDrive/dog vision/test/\"\n",
        "test_filenames = [test_path + fname for fname in os.listdir(test_path)]\n",
        "#test_filenames[:10]"
      ],
      "metadata": {
        "id": "UiAkV0dkYBLA"
      },
      "execution_count": null,
      "outputs": []
    },
    {
      "cell_type": "code",
      "source": [
        "#len(test_filenames)"
      ],
      "metadata": {
        "id": "9jWz2sl5gEKd"
      },
      "execution_count": null,
      "outputs": []
    },
    {
      "cell_type": "code",
      "source": [
        "#Create test data batch\n",
        "test_data = create_data_batches(test_filenames, test_data=True)\n",
        "#test_data"
      ],
      "metadata": {
        "colab": {
          "base_uri": "https://localhost:8080/"
        },
        "id": "GAHV3-bqgJaI",
        "outputId": "65904bdc-92b3-4f18-c92d-8a449b7e6ba5"
      },
      "execution_count": null,
      "outputs": [
        {
          "output_type": "stream",
          "name": "stdout",
          "text": [
            "Creating test data batches...\n"
          ]
        }
      ]
    },
    {
      "cell_type": "markdown",
      "source": [
        "**Note** Calling `predict()` on our full model and passing it the test data bacth will take a long time to run(about an ~1hr)"
      ],
      "metadata": {
        "id": "oMtBooNplL86"
      }
    },
    {
      "cell_type": "code",
      "source": [
        "#Make predictions on the test data batch using the loaded full model \n",
        "#test_predictions = loaded_full_model.predict(test_data, verbose =1)"
      ],
      "metadata": {
        "id": "ul3CBnITjDfR"
      },
      "execution_count": null,
      "outputs": []
    },
    {
      "cell_type": "code",
      "source": [
        "#Save predictions (NumPY array) to csv file(for acces later)\n",
        "#np.savetxt(\"drive/MyDrive/dog vision/preds_array.csv\", test_predictions, delimiter=\",\")"
      ],
      "metadata": {
        "id": "3G7FXYL0yCvi"
      },
      "execution_count": null,
      "outputs": []
    },
    {
      "cell_type": "code",
      "source": [
        "#laod predictions(NumPy array) from csv file which we have saved\n",
        "#test_predictions= np.loadtxt(\"drive/MyDrive/dog vision/dog-vision-prediction-probabilites-array.csv\", delimiter=\",\")"
      ],
      "metadata": {
        "id": "fiRrpsPvymy0"
      },
      "execution_count": null,
      "outputs": []
    },
    {
      "cell_type": "code",
      "source": [
        "#test_predictions[:10]\n",
        "#test_predictions.shape"
      ],
      "metadata": {
        "id": "l3mHjGHS1ZpR"
      },
      "execution_count": null,
      "outputs": []
    },
    {
      "cell_type": "markdown",
      "source": [
        "##Preparing test dataset prediction  for kaggle\n",
        "Looking at the Kaggle sample submission, we fid that it wants our models prediction probability outputs in DataFrame with an ID and a column for each different dog breed.\n",
        "https://www.kaggle.com/competitions/dog-breed-identification/overview/evaluation\n",
        "\n",
        "To get the data in this format, we'll:\n",
        "* Create a pandas Dataframe with an ID column as well as a column for each dog breed\n",
        "* Add data to the Id column by extracting the test image ID's from their filepaths \n",
        "* Add data( the prediction probabilties ) to each of the dog breed columns\n",
        "* Exporting the DataFrame as a csv to submit it to Kaggle"
      ],
      "metadata": {
        "id": "WeYZ0pKAMjYM"
      }
    },
    {
      "cell_type": "code",
      "source": [
        "#Create a  Pandas DataFrame with empty columns\n",
        "#preds_df = pd.DataFrame(columns=[\"id\"]+ list(unique_breeds))\n",
        "#preds_df.head()"
      ],
      "metadata": {
        "id": "GIUGaYPLNRgZ"
      },
      "execution_count": null,
      "outputs": []
    },
    {
      "cell_type": "code",
      "source": [
        "#Append test image ID's to predictions DataFrame\n",
        "#test_ids= [os.path.splitext(path)[0] for path in os.listdir(test_path)]\n",
        "#preds_df[\"id\"]=test_ids"
      ],
      "metadata": {
        "id": "NHNguFBpSzji"
      },
      "execution_count": null,
      "outputs": []
    },
    {
      "cell_type": "code",
      "source": [
        "#preds_df.head()"
      ],
      "metadata": {
        "id": "wV3Xxzl3WNhv"
      },
      "execution_count": null,
      "outputs": []
    },
    {
      "cell_type": "code",
      "source": [
        "# Add the prediction probabilties to each dog breed column\n",
        "#preds_df[list(unique_breeds)] = test_predictions\n",
        "#preds_df.head()\n"
      ],
      "metadata": {
        "id": "-nqnnOqjWeje"
      },
      "execution_count": null,
      "outputs": []
    },
    {
      "cell_type": "code",
      "source": [
        "#Save our predictions dataframe to CSV for submission t kaggle\n",
        "#preds_df.to_csv(\"drive/MyDrive/dog vision/full_model_predictions_submission_1_mobilenetV2.csv\",index=False)"
      ],
      "metadata": {
        "id": "7_MEO1KDnpzG"
      },
      "execution_count": null,
      "outputs": []
    },
    {
      "cell_type": "markdown",
      "source": [
        "##Making predictions on custom images\n",
        "\n",
        "To make predictions on custom images:\n",
        " * Get the filepaths of our own images.\n",
        " * Turn the filepaths into data bathces uisng `create_data_batches()`.And since our custom images won't have labels, we set the `test_data` parameter to `True`\n",
        " * Pass the custom image data batch to our model's `predict()` method.\n",
        " * Convert the prediction output probabities to predictions labels.\n",
        " * Compare the predicted labels to the custom images."
      ],
      "metadata": {
        "id": "lWHpSPB0Y_oZ"
      }
    },
    {
      "cell_type": "code",
      "source": [
        "#Get custom image filepaths\n",
        "custom_path=\"drive/MyDrive/dog vision/my dog test/\"\n",
        "custom_images_paths = [custom_path + fname for fname in os.listdir(custom_path)]"
      ],
      "metadata": {
        "id": "mZMrZTgGb6ve"
      },
      "execution_count": null,
      "outputs": []
    },
    {
      "cell_type": "code",
      "source": [
        "#custom_images_paths"
      ],
      "metadata": {
        "colab": {
          "base_uri": "https://localhost:8080/"
        },
        "id": "CX1vYXuQe8G6",
        "outputId": "a70caf03-f4b2-40b7-f274-277004ea922c"
      },
      "execution_count": null,
      "outputs": [
        {
          "output_type": "execute_result",
          "data": {
            "text/plain": [
              "['drive/MyDrive/dog vision/my dog test/reba-spike-ISahwf9hCNg-unsplash.jpg']"
            ]
          },
          "metadata": {},
          "execution_count": 92
        }
      ]
    },
    {
      "cell_type": "code",
      "source": [
        "#Turn custom images into batch datasets\n",
        "custom_data = create_data_batches(custom_images_paths, test_data =True)\n",
        "custom_data"
      ],
      "metadata": {
        "colab": {
          "base_uri": "https://localhost:8080/"
        },
        "id": "yhbVPm6Sfh7O",
        "outputId": "61c66d8c-662d-43f5-e6fd-ed6c4c53bc07"
      },
      "execution_count": null,
      "outputs": [
        {
          "output_type": "stream",
          "name": "stdout",
          "text": [
            "Creating test data batches...\n"
          ]
        },
        {
          "output_type": "execute_result",
          "data": {
            "text/plain": [
              "<BatchDataset element_spec=TensorSpec(shape=(None, 224, 224, 3), dtype=tf.float32, name=None)>"
            ]
          },
          "metadata": {},
          "execution_count": 101
        }
      ]
    },
    {
      "cell_type": "code",
      "source": [
        "#Make predictions on the custom data\n",
        "custom_preds = loaded_full_model.predict(custom_data)"
      ],
      "metadata": {
        "colab": {
          "base_uri": "https://localhost:8080/"
        },
        "id": "-fInq4UoqS6g",
        "outputId": "5b08a31a-4ced-4858-9b6d-31622c7d3d58"
      },
      "execution_count": null,
      "outputs": [
        {
          "output_type": "stream",
          "name": "stdout",
          "text": [
            "1/1 [==============================] - 1s 1s/step\n"
          ]
        }
      ]
    },
    {
      "cell_type": "code",
      "source": [
        "#custom_preds.shape"
      ],
      "metadata": {
        "colab": {
          "base_uri": "https://localhost:8080/"
        },
        "id": "I9-ZROjMsMXt",
        "outputId": "99b5e4c1-2c89-4731-e646-270c6ca8543a"
      },
      "execution_count": null,
      "outputs": [
        {
          "output_type": "execute_result",
          "data": {
            "text/plain": [
              "(1, 120)"
            ]
          },
          "metadata": {},
          "execution_count": 96
        }
      ]
    },
    {
      "cell_type": "code",
      "source": [
        "#get custom image  prediction labels\n",
        "custom_pred_labels=[get_pred_label(custom_preds[i]) for i in range(len(custom_preds))]\n",
        "custom_pred_labels"
      ],
      "metadata": {
        "colab": {
          "base_uri": "https://localhost:8080/"
        },
        "id": "GF-bY8FMsVyV",
        "outputId": "05c1cb3d-5834-4605-b54a-6b452fc0529b"
      },
      "execution_count": null,
      "outputs": [
        {
          "output_type": "execute_result",
          "data": {
            "text/plain": [
              "['samoyed',\n",
              " 'siberian_husky',\n",
              " 'eskimo_dog',\n",
              " 'norwegian_elkhound',\n",
              " 'siberian_husky']"
            ]
          },
          "metadata": {},
          "execution_count": 103
        }
      ]
    },
    {
      "cell_type": "code",
      "source": [
        "#Get custom images (our unbatchify()) function won't work since there aren't labels...maybe we could fix this later)\n",
        "custom_images=[]\n",
        "#Loop through unbacthed data\n",
        "for image in custom_data.unbatch().as_numpy_iterator(): # this will unwind databatch into images only\n",
        "  custom_images.append(image) "
      ],
      "metadata": {
        "id": "GmAJQuv2tS7C"
      },
      "execution_count": null,
      "outputs": []
    },
    {
      "cell_type": "code",
      "source": [
        "#Checking custom image predictions\n",
        "plt.figure(figsize=(10,10))\n",
        "for i, image in enumerate(custom_images):\n",
        "  plt.subplot(1,5,i+1)\n",
        "  plt.xticks([])\n",
        "  plt.yticks([])\n",
        "  plt.title(custom_pred_labels[i])\n",
        "  plt.imshow(image)"
      ],
      "metadata": {
        "colab": {
          "base_uri": "https://localhost:8080/",
          "height": 160
        },
        "id": "-blZK7CuxoLl",
        "outputId": "01b4b0d4-21b9-411f-c374-e70894e798e7"
      },
      "execution_count": null,
      "outputs": [
        {
          "output_type": "display_data",
          "data": {
            "text/plain": [
              "<Figure size 720x720 with 5 Axes>"
            ],
            "image/png": "[encoded data removed]"
          },
          "metadata": {
            "needs_background": "light"
          }
        }
      ]
    },
    {
      "cell_type": "code",
      "source": [],
      "metadata": {
        "id": "OYP67rqrzmgj"
      },
      "execution_count": null,
      "outputs": []
    }
  ],
  "metadata": {
    "colab": {
      "provenance": [],
      "collapsed_sections": [
        "F63AaZkE3Qn4"
      ],
      "mount_file_id": "1favNbSY3MuZ0C-Dku6YH84ZXJzPTirpN",
      "authorship_tag": "ABX9TyN1ok9PM6/WaR3C92M7dOw8",
      "include_colab_link": true
    },
    "gpuClass": "standard",
    "kernelspec": {
      "display_name": "Python 3",
      "name": "python3"
    },
    "language_info": {
      "name": "python"
    }
  },
  "nbformat": 4,
  "nbformat_minor": 0
}